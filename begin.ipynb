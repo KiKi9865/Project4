{
 "cells": [
  {
   "cell_type": "code",
   "execution_count": null,
   "metadata": {},
   "outputs": [],
   "source": [
    "import pandas as pd\n",
    "\n",
    "# List of student names\n",
    "names = [\n",
    "    \"Ogechukwu, Tasie\", \"Ragland, Joy\", \"McCallum, Tymeeka\", \"Treski, Karin\", \n",
    "    \"Byrd, Reah\", \"Keeter, Jessica\", \"Onyebinachi, Kingsley\", \"Mendez, Alex\", \n",
    "    \"Martin, Djuvane\", \"McClellan, Alexis\", \"Davison, Arthur\", \"McCall, Cheri\", \n",
    "    \"Martin, Justin\", \"Rich, Kiana\", \"Thiera, Taylor\", \"Cummings, Latoya\", \n",
    "    \"Robinson, Nadia\", \"Green, Yvette\", \"Willie, T’uana\", \"Izzard, Atavia\", \n",
    "    \"Houston, Bria\"\n",
    "]\n",
    "\n",
    "# Create a DataFrame\n",
    "columns = [\n",
    "    \"Name\", \"DOB\", \"Undergraduate\", \"Graduate\", \"Doctorate\", \"Time_to_Graduate\", \n",
    "    \"Years_of_Work_Experience\", \"LinkedIn_Profile_Completed\", \"LinkedIn_Connections\", \n",
    "    \"Certifications\", \"Relevant_Technical_Skills\", \"Python_Skill\", \"SQL_Skill\", \n",
    "    \"Excel_Skill\", \"R_Skill\", \"Tableau_Skill\", \"Bootcamp_Interest\"\n",
    "]\n",
    "\n",
    "df = pd.DataFrame(names, columns=[\"Name\"])\n",
    "\n",
    "# Add empty columns\n",
    "for column in columns[1:]:\n",
    "    df[column] = \"\"\n",
    "\n",
    "# Save as CSV\n",
    "df.to_csv('bootcamp_student_data_raw.csv', index=False)\n",
    "\n",
    "print(\"hi hi!\")\n"
   ]
  }
 ],
 "metadata": {
  "kernelspec": {
   "display_name": "Python 3",
   "language": "python",
   "name": "python3"
  },
  "language_info": {
   "codemirror_mode": {
    "name": "ipython",
    "version": 3
   },
   "file_extension": ".py",
   "mimetype": "text/x-python",
   "name": "python",
   "nbconvert_exporter": "python",
   "pygments_lexer": "ipython3",
   "version": "3.12.2"
  }
 },
 "nbformat": 4,
 "nbformat_minor": 2
}
